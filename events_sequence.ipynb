{
 "cells": [
  {
   "cell_type": "code",
   "execution_count": 419,
   "metadata": {
    "collapsed": true
   },
   "outputs": [],
   "source": [
    "import numpy as np\n",
    "import pandas as pd\n",
    "import warnings\n",
    "\n",
    "warnings.filterwarnings('ignore')"
   ]
  },
  {
   "cell_type": "code",
   "execution_count": 420,
   "metadata": {
    "collapsed": true
   },
   "outputs": [],
   "source": [
    "train = pd.read_csv('datasets/events_sequence_train.csv')\n",
    "test = pd.read_csv('datasets/events_sequence_test.csv')"
   ]
  },
  {
   "cell_type": "code",
   "execution_count": 467,
   "metadata": {},
   "outputs": [
    {
     "data": {
      "text/plain": [
       "\"pidus = train['PID'].unique()\\ngrad = dict()\\nfor pid in pidus:\\n    grado = dict()\\n    for date in datepidu:\\n        dole = len(train[(train['PID'] == pid) & (train['Date'] == date)])\\n        if dole > 0:\\n            grado[date] = (30.0/dole)\\n    grad[pid] = grado\""
      ]
     },
     "execution_count": 467,
     "metadata": {},
     "output_type": "execute_result"
    }
   ],
   "source": [
    "datepidu = train['Date'].unique()\n",
    "pidus = train['PID'].unique()\n",
    "grad = dict()\n",
    "for pid in pidus:\n",
    "    grado = dict()\n",
    "    for date in datepidu:\n",
    "        dole = len(train[(train['PID'] == pid) & (train['Date'] == date)])\n",
    "        if dole > 0:\n",
    "            grado[date] = (30.0/dole)\n",
    "    grad[pid] = grado"
   ]
  },
  {
   "cell_type": "code",
   "execution_count": 550,
   "metadata": {
    "collapsed": true
   },
   "outputs": [],
   "source": [
    "cur = 1\n",
    "alist = []\n",
    "alist.append(1)\n",
    "for pidprev, pidnow, dateprev, datenow in zip(train['PID'].values[:-1], train['PID'].values[1:], train['Date'].values[:-1], train['Date'].values[1:]):\n",
    "    if pidnow == pidprev:\n",
    "        cur += 1\n",
    "    else:\n",
    "        cur = 1\n",
    "    alist.append(cur)\n",
    "train['Day'] = pd.Series(alist)"
   ]
  },
  {
   "cell_type": "code",
   "execution_count": 605,
   "metadata": {
    "collapsed": true
   },
   "outputs": [],
   "source": [
    "train['Day'] = pd.Series([15]*len(train))"
   ]
  },
  {
   "cell_type": "code",
   "execution_count": 673,
   "metadata": {
    "collapsed": true
   },
   "outputs": [],
   "source": [
    "def yora(date, day):\n",
    "    '''if date/100 < 2012:\n",
    "        return 1\n",
    "    if (date/100) > 2013:\n",
    "        return 10\n",
    "    return 2\n",
    "    #return ((1.5*((date%100)-1))/11) + 1'''\n",
    "    #year = (date/100)%10\n",
    "    #return (((year-1)*12 + date%100)**2)*(year**2)\n",
    "    #return (year-1)*3600 + (date%100)*100 + day*100\n",
    "    year = int(date)/100\n",
    "    month = int(date) % 100\n",
    "    week = int((month-1)*30 + round(day))/7\n",
    "    if year < 2012:\n",
    "        return 1\n",
    "    elif year > 2012 and year < 2013:\n",
    "        return 1.5\n",
    "    elif month <= 2:\n",
    "        return 10\n",
    "    elif month <= 6:\n",
    "        return month\n",
    "    else:\n",
    "        return (7 + (week-25))"
   ]
  },
  {
   "cell_type": "code",
   "execution_count": 674,
   "metadata": {
    "collapsed": true
   },
   "outputs": [],
   "source": [
    "# train['Month'] = pd.Series([(yora(date)*((((date/100)%10 - 1)*12)+date%100) for date in train['Date'].values])\n",
    "train['Month'] = pd.Series([yora(date, day) for date, day in zip(train['Date'].values, train['Day'].values)])"
   ]
  },
  {
   "cell_type": "code",
   "execution_count": 667,
   "metadata": {},
   "outputs": [
    {
     "data": {
      "text/html": [
       "<div>\n",
       "<style>\n",
       "    .dataframe thead tr:only-child th {\n",
       "        text-align: right;\n",
       "    }\n",
       "\n",
       "    .dataframe thead th {\n",
       "        text-align: left;\n",
       "    }\n",
       "\n",
       "    .dataframe tbody tr th {\n",
       "        vertical-align: top;\n",
       "    }\n",
       "</style>\n",
       "<table border=\"1\" class=\"dataframe\">\n",
       "  <thead>\n",
       "    <tr style=\"text-align: right;\">\n",
       "      <th></th>\n",
       "      <th>PID</th>\n",
       "      <th>Date</th>\n",
       "      <th>Event</th>\n",
       "      <th>Day</th>\n",
       "      <th>Month</th>\n",
       "    </tr>\n",
       "  </thead>\n",
       "  <tbody>\n",
       "    <tr>\n",
       "      <th>766777</th>\n",
       "      <td>1022024</td>\n",
       "      <td>201308</td>\n",
       "      <td>8004</td>\n",
       "      <td>15</td>\n",
       "      <td>14.142857</td>\n",
       "    </tr>\n",
       "    <tr>\n",
       "      <th>766778</th>\n",
       "      <td>1022024</td>\n",
       "      <td>201308</td>\n",
       "      <td>8006</td>\n",
       "      <td>15</td>\n",
       "      <td>14.142857</td>\n",
       "    </tr>\n",
       "    <tr>\n",
       "      <th>766779</th>\n",
       "      <td>1022024</td>\n",
       "      <td>201308</td>\n",
       "      <td>8443</td>\n",
       "      <td>15</td>\n",
       "      <td>14.142857</td>\n",
       "    </tr>\n",
       "    <tr>\n",
       "      <th>766780</th>\n",
       "      <td>1022024</td>\n",
       "      <td>201308</td>\n",
       "      <td>8444</td>\n",
       "      <td>15</td>\n",
       "      <td>14.142857</td>\n",
       "    </tr>\n",
       "    <tr>\n",
       "      <th>766781</th>\n",
       "      <td>1022024</td>\n",
       "      <td>201308</td>\n",
       "      <td>8502</td>\n",
       "      <td>15</td>\n",
       "      <td>14.142857</td>\n",
       "    </tr>\n",
       "    <tr>\n",
       "      <th>766782</th>\n",
       "      <td>1022024</td>\n",
       "      <td>201308</td>\n",
       "      <td>9462</td>\n",
       "      <td>15</td>\n",
       "      <td>14.142857</td>\n",
       "    </tr>\n",
       "    <tr>\n",
       "      <th>766783</th>\n",
       "      <td>1022024</td>\n",
       "      <td>201308</td>\n",
       "      <td>9406</td>\n",
       "      <td>15</td>\n",
       "      <td>14.142857</td>\n",
       "    </tr>\n",
       "    <tr>\n",
       "      <th>766784</th>\n",
       "      <td>1022024</td>\n",
       "      <td>201308</td>\n",
       "      <td>9436</td>\n",
       "      <td>15</td>\n",
       "      <td>14.142857</td>\n",
       "    </tr>\n",
       "    <tr>\n",
       "      <th>766785</th>\n",
       "      <td>1022024</td>\n",
       "      <td>201308</td>\n",
       "      <td>9472</td>\n",
       "      <td>15</td>\n",
       "      <td>14.142857</td>\n",
       "    </tr>\n",
       "    <tr>\n",
       "      <th>766786</th>\n",
       "      <td>1022024</td>\n",
       "      <td>201308</td>\n",
       "      <td>9426</td>\n",
       "      <td>15</td>\n",
       "      <td>14.142857</td>\n",
       "    </tr>\n",
       "  </tbody>\n",
       "</table>\n",
       "</div>"
      ],
      "text/plain": [
       "            PID    Date Event  Day      Month\n",
       "766777  1022024  201308  8004   15  14.142857\n",
       "766778  1022024  201308  8006   15  14.142857\n",
       "766779  1022024  201308  8443   15  14.142857\n",
       "766780  1022024  201308  8444   15  14.142857\n",
       "766781  1022024  201308  8502   15  14.142857\n",
       "766782  1022024  201308  9462   15  14.142857\n",
       "766783  1022024  201308  9406   15  14.142857\n",
       "766784  1022024  201308  9436   15  14.142857\n",
       "766785  1022024  201308  9472   15  14.142857\n",
       "766786  1022024  201308  9426   15  14.142857"
      ]
     },
     "execution_count": 667,
     "metadata": {},
     "output_type": "execute_result"
    }
   ],
   "source": [
    "train.tail(10)"
   ]
  },
  {
   "cell_type": "code",
   "execution_count": 675,
   "metadata": {
    "collapsed": true
   },
   "outputs": [],
   "source": [
    "#import random\n",
    "taking = 6\n",
    "predictions = []\n",
    "percentage = 0.75\n",
    "for pid, i in zip(test['PID'].values, range(len(test['PID'].values))):\n",
    "    # This 1st line here\n",
    "    cur = train[(train['PID'] == pid) & (train['Date']/100 > 2013) & (train['Date']%100 >= 6)]\n",
    "    # cur.sort_values(['Date'], ascending=False, inplace=True)\n",
    "    # cur = cur.head(min(100, len(cur)))\n",
    "    # Multiplying by month\n",
    "    #if len(cur) < 10:\n",
    "    if len(cur['Event'].unique()) < taking:\n",
    "        cur = train[(train['PID'] == pid) & (train['Date']/100 > 2013)]\n",
    "    #if len(cur) < 10:\n",
    "    if len(cur['Event'].unique()) < taking:\n",
    "        cur = train[(train['PID'] == pid) & (train['Date']/100 > 2012)]\n",
    "    #if len(cur) < 10:\n",
    "    if len(cur['Event'].unique()) < taking:\n",
    "        cur = train[(train['PID'] == pid)]\n",
    "    #cur = train[(train['PID'] == pid)].sort_values('Date', ascending=False).head(int(round(percentage*len(train[(train['PID'] == pid)]))))\n",
    "    #cur.sort_values('Date', ascending=True, inplace=True)\n",
    "    #cur['Month'] = pd.Series([i for month, i in zip(cur['Month'].values, range(len(cur['Month'].values)))])\n",
    "    cur = cur.groupby('Event').sum().sort_values('Month', ascending=False).head(10)\n",
    "    cur1 = cur.index.values\n",
    "    #freqs = cur['Month'].values\n",
    "    #probs = [freq/sum(cur['Month'].values) for freq in cur['Month'].values]\n",
    "    #cur = np.random.choice(cur1, size=10, p=probs)\n",
    "    cur = cur.index.values[:taking]\n",
    "    cur = list(cur)\n",
    "    if len(cur) < taking:\n",
    "        cur = cur + cur[:taking-len(cur)]\n",
    "    cur = cur+cur[:10%taking]\n",
    "    curo = cur\n",
    "    #random.shuffle(cur)\n",
    "    predictions.append(curo)\n",
    "    \"\"\"curro = [0]*10\n",
    "    for i in range(10):\n",
    "        ind = np.random.choice(list(range(len(cur1))), size=1, p=probs)[0]\n",
    "        freqs[ind] += 13\n",
    "        probs = [freq/sum(freqs) for freq in freqs]\n",
    "        curro[i] = cur1[ind]\n",
    "    # Can apply probability here too\n",
    "    predictions.append(curro)\"\"\""
   ]
  },
  {
   "cell_type": "code",
   "execution_count": 676,
   "metadata": {},
   "outputs": [
    {
     "name": "stdout",
     "output_type": "stream",
     "text": [
      "3000\n"
     ]
    },
    {
     "data": {
      "text/plain": [
       "(3000, 10)"
      ]
     },
     "execution_count": 676,
     "metadata": {},
     "output_type": "execute_result"
    }
   ],
   "source": [
    "print(len(predictions))\n",
    "predictions = np.array(predictions)\n",
    "predictions.shape"
   ]
  },
  {
   "cell_type": "code",
   "execution_count": 677,
   "metadata": {},
   "outputs": [
    {
     "data": {
      "text/html": [
       "<div>\n",
       "<style>\n",
       "    .dataframe thead tr:only-child th {\n",
       "        text-align: right;\n",
       "    }\n",
       "\n",
       "    .dataframe thead th {\n",
       "        text-align: left;\n",
       "    }\n",
       "\n",
       "    .dataframe tbody tr th {\n",
       "        vertical-align: top;\n",
       "    }\n",
       "</style>\n",
       "<table border=\"1\" class=\"dataframe\">\n",
       "  <thead>\n",
       "    <tr style=\"text-align: right;\">\n",
       "      <th></th>\n",
       "      <th>PID</th>\n",
       "      <th>Event1</th>\n",
       "      <th>Event2</th>\n",
       "      <th>Event3</th>\n",
       "      <th>Event4</th>\n",
       "      <th>Event5</th>\n",
       "      <th>Event6</th>\n",
       "      <th>Event7</th>\n",
       "      <th>Event8</th>\n",
       "      <th>Event9</th>\n",
       "      <th>Event10</th>\n",
       "    </tr>\n",
       "  </thead>\n",
       "  <tbody>\n",
       "    <tr>\n",
       "      <th>0</th>\n",
       "      <td>1028890</td>\n",
       "      <td>2214</td>\n",
       "      <td>8501</td>\n",
       "      <td>8561</td>\n",
       "      <td>3258</td>\n",
       "      <td>7087</td>\n",
       "      <td>3641</td>\n",
       "      <td>2214</td>\n",
       "      <td>8501</td>\n",
       "      <td>8561</td>\n",
       "      <td>3258</td>\n",
       "    </tr>\n",
       "    <tr>\n",
       "      <th>1</th>\n",
       "      <td>1021443</td>\n",
       "      <td>2773</td>\n",
       "      <td>2189</td>\n",
       "      <td>8100</td>\n",
       "      <td>8708</td>\n",
       "      <td>V726</td>\n",
       "      <td>5815</td>\n",
       "      <td>2773</td>\n",
       "      <td>2189</td>\n",
       "      <td>8100</td>\n",
       "      <td>8708</td>\n",
       "    </tr>\n",
       "    <tr>\n",
       "      <th>2</th>\n",
       "      <td>1016194</td>\n",
       "      <td>2735</td>\n",
       "      <td>2334</td>\n",
       "      <td>3417</td>\n",
       "      <td>2446</td>\n",
       "      <td>3273</td>\n",
       "      <td>2533</td>\n",
       "      <td>2735</td>\n",
       "      <td>2334</td>\n",
       "      <td>3417</td>\n",
       "      <td>2446</td>\n",
       "    </tr>\n",
       "    <tr>\n",
       "      <th>3</th>\n",
       "      <td>1017298</td>\n",
       "      <td>3614</td>\n",
       "      <td>1975</td>\n",
       "      <td>2706</td>\n",
       "      <td>3131</td>\n",
       "      <td>2657</td>\n",
       "      <td>2533</td>\n",
       "      <td>3614</td>\n",
       "      <td>1975</td>\n",
       "      <td>2706</td>\n",
       "      <td>3131</td>\n",
       "    </tr>\n",
       "    <tr>\n",
       "      <th>4</th>\n",
       "      <td>1006098</td>\n",
       "      <td>2687</td>\n",
       "      <td>3194</td>\n",
       "      <td>7109</td>\n",
       "      <td>3641</td>\n",
       "      <td>2674</td>\n",
       "      <td>8502</td>\n",
       "      <td>2687</td>\n",
       "      <td>3194</td>\n",
       "      <td>7109</td>\n",
       "      <td>3641</td>\n",
       "    </tr>\n",
       "  </tbody>\n",
       "</table>\n",
       "</div>"
      ],
      "text/plain": [
       "       PID Event1 Event2 Event3 Event4 Event5 Event6 Event7 Event8 Event9  \\\n",
       "0  1028890   2214   8501   8561   3258   7087   3641   2214   8501   8561   \n",
       "1  1021443   2773   2189   8100   8708   V726   5815   2773   2189   8100   \n",
       "2  1016194   2735   2334   3417   2446   3273   2533   2735   2334   3417   \n",
       "3  1017298   3614   1975   2706   3131   2657   2533   3614   1975   2706   \n",
       "4  1006098   2687   3194   7109   3641   2674   8502   2687   3194   7109   \n",
       "\n",
       "  Event10  \n",
       "0    3258  \n",
       "1    8708  \n",
       "2    2446  \n",
       "3    3131  \n",
       "4    3641  "
      ]
     },
     "execution_count": 677,
     "metadata": {},
     "output_type": "execute_result"
    }
   ],
   "source": [
    "for i in range(10):\n",
    "    test['Event'+str(i+1)] = pd.Series(predictions[:, i])\n",
    "test.head()"
   ]
  },
  {
   "cell_type": "code",
   "execution_count": 678,
   "metadata": {
    "collapsed": true
   },
   "outputs": [],
   "source": [
    "df = test\n",
    "df.to_csv('datasets/events_sequence_predictions.csv', index=False)"
   ]
  }
 ],
 "metadata": {
  "kernelspec": {
   "display_name": "Python 3",
   "language": "python",
   "name": "python3"
  },
  "language_info": {
   "codemirror_mode": {
    "name": "ipython",
    "version": 3
   },
   "file_extension": ".py",
   "mimetype": "text/x-python",
   "name": "python",
   "nbconvert_exporter": "python",
   "pygments_lexer": "ipython3",
   "version": "3.4.3"
  }
 },
 "nbformat": 4,
 "nbformat_minor": 2
}
