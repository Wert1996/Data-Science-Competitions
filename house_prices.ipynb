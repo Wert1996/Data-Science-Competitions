{
 "cells": [
  {
   "cell_type": "code",
   "execution_count": 21,
   "metadata": {},
   "outputs": [
    {
     "name": "stdout",
     "output_type": "stream",
     "text": [
      "Providing missing values..\n",
      "Encoding with label..\n",
      "Onehotencoding..\n",
      "Scaling the data..\n"
     ]
    }
   ],
   "source": [
    "import numpy as np\n",
    "import pandas as pd\n",
    "import machine_learning_template.datapreprocessing as dp\n",
    "dataset = pd.read_csv('datasets/house_prices_train.csv')\n",
    "# Data Preprocessing\n",
    "dataset = dp.impute(dataset)\n",
    "X = dataset.iloc[:, 1:-1].values\n",
    "y = dataset.iloc[:, -1].values\n",
    "X = dp.encode(X)\n",
    "X = dp.scaling(X) "
   ]
  },
  {
   "cell_type": "code",
   "execution_count": 4,
   "metadata": {},
   "outputs": [
    {
     "name": "stdout",
     "output_type": "stream",
     "text": [
      "0.557811856921\n"
     ]
    }
   ],
   "source": [
    "import numpy as np\n",
    "import machine_learning_template.DimensionalityReduction as dimred\n",
    "# Principal Component Analysis\n",
    "variance = dimred.pca(X)\n",
    "variance = [(i, item) for i, item in zip(range(X.shape[1]), variance)]\n",
    "variance.sort(key = lambda x: -x[1])\n",
    "print(sum(item for i, item in variance[:50]))"
   ]
  },
  {
   "cell_type": "code",
   "execution_count": 30,
   "metadata": {},
   "outputs": [
    {
     "data": {
      "text/plain": [
       "'from sklearn.model_selection import KFold, cross_val_score\\nimport machine_learning_template.Regression_methods as reg\\nimport machine_learning_template.Metrics as met\\nk_fold = KFold(n_splits=10)\\nresults = []\\nfor train, test in k_fold.split(X_red):\\n    y_pred = reg.random_forest_regressor(X_red[train, :], y[train], 300, X_red[test, :])\\n    rsq = met.r_squared_metric(y_pred, y[test])\\n    adjrsq = met.adjusted_r_squared_metric(y_pred, y[test], 20)\\n    results.append((rsq, adjrsq))\\nfrom numpy import mean\\nresults = tuple(map(mean, zip(*results)))\\nprint(results)'"
      ]
     },
     "execution_count": 30,
     "metadata": {},
     "output_type": "execute_result"
    }
   ],
   "source": [
    "import machine_learning_template.DimensionalityReduction as dimred\n",
    "X_red = dimred.pca(X, 150)\n",
    "\"\"\"from sklearn.model_selection import KFold, cross_val_score\n",
    "import machine_learning_template.Regression_methods as reg\n",
    "import machine_learning_template.Metrics as met\n",
    "k_fold = KFold(n_splits=10)\n",
    "results = []\n",
    "for train, test in k_fold.split(X_red):\n",
    "    y_pred = reg.random_forest_regressor(X_red[train, :], y[train], 300, X_red[test, :])\n",
    "    rsq = met.r_squared_metric(y_pred, y[test])\n",
    "    adjrsq = met.adjusted_r_squared_metric(y_pred, y[test], 20)\n",
    "    results.append((rsq, adjrsq))\n",
    "from numpy import mean\n",
    "results = tuple(map(mean, zip(*results)))\n",
    "print(results)\"\"\""
   ]
  },
  {
   "cell_type": "code",
   "execution_count": 32,
   "metadata": {},
   "outputs": [
    {
     "name": "stdout",
     "output_type": "stream",
     "text": [
      "Providing missing values..\n",
      "Encoding with label..\n",
      "Onehotencoding..\n",
      "Scaling the data..\n",
      "Random Forest Regression\n"
     ]
    }
   ],
   "source": [
    "import machine_learning_template.datapreprocessing as dp\n",
    "import machine_learning_template.DimensionalityReduction as dimred\n",
    "data_to_predict = pd.read_csv('datasets/house_prices_test.csv')\n",
    "data_to_predict = dp.impute(data_to_predict)\n",
    "X_final = data_to_predict.iloc[:, 1:-1].values\n",
    "X_final = dp.encode(X_final)\n",
    "X_final = dp.scaling(X_final)\n",
    "X_final = dimred.pca(X_final, 150)\n",
    "import machine_learning_template.Regression_methods as reg\n",
    "y_pred_final = reg.random_forest_regressor(X_red, y, 10, X_final)\n",
    "dicto = {'Id': data_to_predict['Id'], 'SalePrice': y_pred_final}\n",
    "df = pd.DataFrame(dicto)\n",
    "df.to_csv('datasets/house_prices_predictions.csv', index=False)"
   ]
  }
 ],
 "metadata": {
  "kernelspec": {
   "display_name": "Python 3",
   "language": "python",
   "name": "python3"
  },
  "language_info": {
   "codemirror_mode": {
    "name": "ipython",
    "version": 3
   },
   "file_extension": ".py",
   "mimetype": "text/x-python",
   "name": "python",
   "nbconvert_exporter": "python",
   "pygments_lexer": "ipython3",
   "version": "3.4.3"
  }
 },
 "nbformat": 4,
 "nbformat_minor": 1
}
